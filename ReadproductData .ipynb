{
 "cells": [
  {
   "cell_type": "code",
   "execution_count": 2,
   "metadata": {},
   "outputs": [],
   "source": [
    "import pandas as pd\n",
    "import gzip\n",
    "\n",
    "def parse(path):\n",
    "  g = gzip.open(path, 'rb')\n",
    "  for l in g:\n",
    "    yield eval(l)\n",
    "\n",
    "def getDF(path):\n",
    "  i = 0\n",
    "  df = {}\n",
    "  for d in parse(path):\n",
    "    df[i] = d\n",
    "    i += 1\n",
    "  return pd.DataFrame.from_dict(df, orient='index')\n",
    "\n",
    "df = getDF('metadata.json.gz')"
   ]
  },
  {
   "cell_type": "code",
   "execution_count": 4,
   "metadata": {},
   "outputs": [],
   "source": [
    "df['price'] = df['price'].fillna(0)"
   ]
  },
  {
   "cell_type": "code",
   "execution_count": 5,
   "metadata": {},
   "outputs": [
    {
     "data": {
      "text/html": [
       "<div>\n",
       "<style scoped>\n",
       "    .dataframe tbody tr th:only-of-type {\n",
       "        vertical-align: middle;\n",
       "    }\n",
       "\n",
       "    .dataframe tbody tr th {\n",
       "        vertical-align: top;\n",
       "    }\n",
       "\n",
       "    .dataframe thead th {\n",
       "        text-align: right;\n",
       "    }\n",
       "</style>\n",
       "<table border=\"1\" class=\"dataframe\">\n",
       "  <thead>\n",
       "    <tr style=\"text-align: right;\">\n",
       "      <th></th>\n",
       "      <th>asin</th>\n",
       "      <th>salesRank</th>\n",
       "      <th>imUrl</th>\n",
       "      <th>categories</th>\n",
       "      <th>title</th>\n",
       "      <th>description</th>\n",
       "      <th>price</th>\n",
       "      <th>related</th>\n",
       "      <th>brand</th>\n",
       "    </tr>\n",
       "  </thead>\n",
       "  <tbody>\n",
       "    <tr>\n",
       "      <th>0</th>\n",
       "      <td>0001048791</td>\n",
       "      <td>{'Books': 6334800}</td>\n",
       "      <td>http://ecx.images-amazon.com/images/I/51MKP0T4...</td>\n",
       "      <td>[[Books]]</td>\n",
       "      <td>The Crucible: Performed by Stuart Pankin, Jero...</td>\n",
       "      <td>NaN</td>\n",
       "      <td>0.00</td>\n",
       "      <td>NaN</td>\n",
       "      <td>NaN</td>\n",
       "    </tr>\n",
       "    <tr>\n",
       "      <th>1</th>\n",
       "      <td>0000143561</td>\n",
       "      <td>{'Movies &amp; TV': 376041}</td>\n",
       "      <td>http://g-ecx.images-amazon.com/images/G/01/x-s...</td>\n",
       "      <td>[[Movies &amp; TV, Movies]]</td>\n",
       "      <td>Everyday Italian (with Giada de Laurentiis), V...</td>\n",
       "      <td>3Pack DVD set - Italian Classics, Parties and ...</td>\n",
       "      <td>12.99</td>\n",
       "      <td>{'also_viewed': ['B0036FO6SI', 'B000KL8ODE', '...</td>\n",
       "      <td>NaN</td>\n",
       "    </tr>\n",
       "    <tr>\n",
       "      <th>2</th>\n",
       "      <td>0000037214</td>\n",
       "      <td>{'Clothing': 1233557}</td>\n",
       "      <td>http://ecx.images-amazon.com/images/I/31mCncNu...</td>\n",
       "      <td>[[Clothing, Shoes &amp; Jewelry, Girls], [Clothing...</td>\n",
       "      <td>Purple Sequin Tiny Dancer Tutu Ballet Dance Fa...</td>\n",
       "      <td>NaN</td>\n",
       "      <td>6.99</td>\n",
       "      <td>{'also_viewed': ['B00JO8II76', 'B00DGN4R1Q', '...</td>\n",
       "      <td>Big Dreams</td>\n",
       "    </tr>\n",
       "    <tr>\n",
       "      <th>3</th>\n",
       "      <td>0000032069</td>\n",
       "      <td>NaN</td>\n",
       "      <td>http://ecx.images-amazon.com/images/I/51EzU6qu...</td>\n",
       "      <td>[[Sports &amp; Outdoors, Other Sports, Dance, Clot...</td>\n",
       "      <td>Adult Ballet Tutu Cheetah Pink</td>\n",
       "      <td>NaN</td>\n",
       "      <td>7.89</td>\n",
       "      <td>{'also_bought': ['0000032050', 'B00D0DJAEG', '...</td>\n",
       "      <td>BubuBibi</td>\n",
       "    </tr>\n",
       "    <tr>\n",
       "      <th>4</th>\n",
       "      <td>0000031909</td>\n",
       "      <td>{'Toys &amp; Games': 201847}</td>\n",
       "      <td>http://ecx.images-amazon.com/images/I/41xBoP0F...</td>\n",
       "      <td>[[Sports &amp; Outdoors, Other Sports, Dance]]</td>\n",
       "      <td>Girls Ballet Tutu Neon Pink</td>\n",
       "      <td>High quality 3 layer ballet tutu. 12 inches in...</td>\n",
       "      <td>7.00</td>\n",
       "      <td>{'also_bought': ['B002BZX8Z6', 'B00JHONN1S', '...</td>\n",
       "      <td>Unknown</td>\n",
       "    </tr>\n",
       "  </tbody>\n",
       "</table>\n",
       "</div>"
      ],
      "text/plain": [
       "         asin                 salesRank  \\\n",
       "0  0001048791        {'Books': 6334800}   \n",
       "1  0000143561   {'Movies & TV': 376041}   \n",
       "2  0000037214     {'Clothing': 1233557}   \n",
       "3  0000032069                       NaN   \n",
       "4  0000031909  {'Toys & Games': 201847}   \n",
       "\n",
       "                                               imUrl  \\\n",
       "0  http://ecx.images-amazon.com/images/I/51MKP0T4...   \n",
       "1  http://g-ecx.images-amazon.com/images/G/01/x-s...   \n",
       "2  http://ecx.images-amazon.com/images/I/31mCncNu...   \n",
       "3  http://ecx.images-amazon.com/images/I/51EzU6qu...   \n",
       "4  http://ecx.images-amazon.com/images/I/41xBoP0F...   \n",
       "\n",
       "                                          categories  \\\n",
       "0                                          [[Books]]   \n",
       "1                            [[Movies & TV, Movies]]   \n",
       "2  [[Clothing, Shoes & Jewelry, Girls], [Clothing...   \n",
       "3  [[Sports & Outdoors, Other Sports, Dance, Clot...   \n",
       "4         [[Sports & Outdoors, Other Sports, Dance]]   \n",
       "\n",
       "                                               title  \\\n",
       "0  The Crucible: Performed by Stuart Pankin, Jero...   \n",
       "1  Everyday Italian (with Giada de Laurentiis), V...   \n",
       "2  Purple Sequin Tiny Dancer Tutu Ballet Dance Fa...   \n",
       "3                     Adult Ballet Tutu Cheetah Pink   \n",
       "4                        Girls Ballet Tutu Neon Pink   \n",
       "\n",
       "                                         description  price  \\\n",
       "0                                                NaN   0.00   \n",
       "1  3Pack DVD set - Italian Classics, Parties and ...  12.99   \n",
       "2                                                NaN   6.99   \n",
       "3                                                NaN   7.89   \n",
       "4  High quality 3 layer ballet tutu. 12 inches in...   7.00   \n",
       "\n",
       "                                             related       brand  \n",
       "0                                                NaN         NaN  \n",
       "1  {'also_viewed': ['B0036FO6SI', 'B000KL8ODE', '...         NaN  \n",
       "2  {'also_viewed': ['B00JO8II76', 'B00DGN4R1Q', '...  Big Dreams  \n",
       "3  {'also_bought': ['0000032050', 'B00D0DJAEG', '...    BubuBibi  \n",
       "4  {'also_bought': ['B002BZX8Z6', 'B00JHONN1S', '...     Unknown  "
      ]
     },
     "execution_count": 5,
     "metadata": {},
     "output_type": "execute_result"
    }
   ],
   "source": [
    "df.head()"
   ]
  },
  {
   "cell_type": "code",
   "execution_count": 6,
   "metadata": {},
   "outputs": [],
   "source": [
    "x = df[df['asin']=='0000032069']['related']"
   ]
  },
  {
   "cell_type": "code",
   "execution_count": 7,
   "metadata": {},
   "outputs": [
    {
     "data": {
      "text/plain": [
       "3    {'also_bought': ['0000032050', 'B00D0DJAEG', '...\n",
       "Name: related, dtype: object"
      ]
     },
     "execution_count": 7,
     "metadata": {},
     "output_type": "execute_result"
    }
   ],
   "source": [
    "x"
   ]
  },
  {
   "cell_type": "code",
   "execution_count": 8,
   "metadata": {},
   "outputs": [
    {
     "data": {
      "text/plain": [
       "3    {'also_bought': ['0000032050', 'B00D0DJAEG', '...\n",
       "Name: related, dtype: object"
      ]
     },
     "execution_count": 8,
     "metadata": {},
     "output_type": "execute_result"
    }
   ],
   "source": [
    "x.head()"
   ]
  },
  {
   "cell_type": "code",
   "execution_count": 9,
   "metadata": {},
   "outputs": [
    {
     "data": {
      "text/plain": [
       "['0000032050',\n",
       " 'B00D0DJAEG',\n",
       " '0000032042',\n",
       " 'B00D0F450I',\n",
       " 'B00D2JTMS2',\n",
       " 'B00D0FDUAY',\n",
       " 'B00D2JSRFQ',\n",
       " '0000032034',\n",
       " 'B00D0D5F6S',\n",
       " 'B00D2JRWWA',\n",
       " 'B00D0FIIJM',\n",
       " 'B00D0FCQQI',\n",
       " 'B00EXVN9PU',\n",
       " 'B0041EOTJO',\n",
       " 'B004PYEE8G',\n",
       " 'B001GTKPDQ',\n",
       " 'B00EON0SJ2',\n",
       " 'B005HMHOQ4',\n",
       " 'B002XZMGGQ']"
      ]
     },
     "execution_count": 9,
     "metadata": {},
     "output_type": "execute_result"
    }
   ],
   "source": [
    "x.iloc[0]['also_bought']"
   ]
  },
  {
   "cell_type": "code",
   "execution_count": 18,
   "metadata": {},
   "outputs": [
    {
     "data": {
      "text/plain": [
       "['B00D0F450I',\n",
       " '0000032050',\n",
       " 'B00D2JTMS2',\n",
       " '0000032042',\n",
       " 'B004PYEE8G',\n",
       " 'B00JHNSNSM',\n",
       " 'B00D0DJAEG',\n",
       " 'B00D2JSRFQ',\n",
       " 'B00D0FCQQI',\n",
       " 'B00D2JRWWA',\n",
       " 'B003AVNY6I',\n",
       " 'B0071KR2LC',\n",
       " 'B00GOR07RE',\n",
       " 'B00D0FIIJM',\n",
       " 'B005F50FXC',\n",
       " 'B0079MCIMU',\n",
       " 'B00D0FDUAY',\n",
       " 'B00H3RYN3I',\n",
       " 'B005C4Y4F6',\n",
       " 'B007IEFT84',\n",
       " 'B00D0D5F6S',\n",
       " 'B002BZX8Z6',\n",
       " 'B00JHONN1S',\n",
       " 'B008F0SU0Y',\n",
       " 'B00FNNFXAG',\n",
       " 'B007R2RM8W',\n",
       " 'B007VM3AMK',\n",
       " 'B00C0PLENA',\n",
       " 'B00BJGG6VG',\n",
       " 'B00E1YRI4C',\n",
       " 'B00IIK61WA',\n",
       " 'B009UC638W',\n",
       " 'B00KZN6RVI',\n",
       " 'B00CSFEENY',\n",
       " 'B002GZGI4E',\n",
       " 'B00HSOJJ94',\n",
       " 'B00LIPP4VG',\n",
       " 'B009RXWNSI',\n",
       " 'B00E87F196',\n",
       " 'B005HMHOQY',\n",
       " 'B00J6S9MSS',\n",
       " '0000032034',\n",
       " 'B00CJQGNJK',\n",
       " 'B008FCA0F0',\n",
       " 'B0056LG7GY',\n",
       " 'B00DPQWCZ2',\n",
       " 'B00I3PV0US',\n",
       " 'B00KZN6IVW',\n",
       " 'B0054TBWKO',\n",
       " 'B00I2S01I8',\n",
       " 'B00BXF12P8',\n",
       " 'B00GVHU678',\n",
       " 'B005NWENGC',\n",
       " 'B003AVKOP2',\n",
       " 'B00JK8MQ4Q',\n",
       " 'B00FZIMVQS',\n",
       " 'B008BB19VE',\n",
       " 'B00GTEXPOE',\n",
       " 'B009WPT2RQ',\n",
       " 'B00E37SBBG']"
      ]
     },
     "execution_count": 18,
     "metadata": {},
     "output_type": "execute_result"
    }
   ],
   "source": [
    "x.iloc[0]['also_viewed']"
   ]
  },
  {
   "cell_type": "code",
   "execution_count": 16,
   "metadata": {},
   "outputs": [],
   "source": [
    "df_related = df[['asin','related']]"
   ]
  },
  {
   "cell_type": "code",
   "execution_count": 19,
   "metadata": {},
   "outputs": [
    {
     "data": {
      "text/plain": [
       "Index(['asin', 'related'], dtype='object')"
      ]
     },
     "execution_count": 19,
     "metadata": {},
     "output_type": "execute_result"
    }
   ],
   "source": [
    "df_related.columns"
   ]
  },
  {
   "cell_type": "code",
   "execution_count": 22,
   "metadata": {},
   "outputs": [],
   "source": [
    "df_related = df_related[df_related['related'].notnull()]"
   ]
  },
  {
   "cell_type": "code",
   "execution_count": 31,
   "metadata": {},
   "outputs": [
    {
     "data": {
      "text/plain": [
       "True"
      ]
     },
     "execution_count": 31,
     "metadata": {},
     "output_type": "execute_result"
    }
   ],
   "source": [
    "'also_viewed' in df_related.iloc[0]['related'].keys()"
   ]
  },
  {
   "cell_type": "code",
   "execution_count": 32,
   "metadata": {},
   "outputs": [
    {
     "data": {
      "text/plain": [
       "['B0036FO6SI',\n",
       " 'B000KL8ODE',\n",
       " '000014357X',\n",
       " 'B0037718RC',\n",
       " 'B002I5GNVU',\n",
       " 'B000RBU4BM']"
      ]
     },
     "execution_count": 32,
     "metadata": {},
     "output_type": "execute_result"
    }
   ],
   "source": [
    "df_related.iloc[0]['related']['also_viewed']"
   ]
  },
  {
   "cell_type": "code",
   "execution_count": 34,
   "metadata": {},
   "outputs": [
    {
     "data": {
      "text/plain": [
       "(6691673, 2)"
      ]
     },
     "execution_count": 34,
     "metadata": {},
     "output_type": "execute_result"
    }
   ],
   "source": [
    "df_related.shape"
   ]
  },
  {
   "cell_type": "code",
   "execution_count": 35,
   "metadata": {},
   "outputs": [
    {
     "data": {
      "text/plain": [
       "(9430088, 9)"
      ]
     },
     "execution_count": 35,
     "metadata": {},
     "output_type": "execute_result"
    }
   ],
   "source": [
    "df.shape"
   ]
  },
  {
   "cell_type": "code",
   "execution_count": 38,
   "metadata": {},
   "outputs": [],
   "source": [
    "# building the also viewed network\n",
    "with open('also_viewed_network.csv','w') as ft:\n",
    "    for i in range(df_related.shape[0]):\n",
    "        u = df_related.iloc[i]['asin']\n",
    "        if 'also_viewed' in df_related.iloc[i]['related'].keys():\n",
    "            for v in df_related.iloc[i]['related']['also_viewed']:\n",
    "                ft.write(u+','+v)\n",
    "                ft.write('\\n')    \n",
    "        "
   ]
  },
  {
   "cell_type": "code",
   "execution_count": 39,
   "metadata": {},
   "outputs": [],
   "source": [
    "import numpy as np"
   ]
  },
  {
   "cell_type": "code",
   "execution_count": 42,
   "metadata": {},
   "outputs": [],
   "source": [
    "a = np.zeros((2,4))"
   ]
  },
  {
   "cell_type": "code",
   "execution_count": 43,
   "metadata": {},
   "outputs": [],
   "source": [
    "b = np.ones((1,4))"
   ]
  },
  {
   "cell_type": "code",
   "execution_count": 46,
   "metadata": {},
   "outputs": [],
   "source": [
    "a[0] = a[0]+b"
   ]
  },
  {
   "cell_type": "code",
   "execution_count": 47,
   "metadata": {},
   "outputs": [
    {
     "data": {
      "text/plain": [
       "array([[1., 1., 1., 1.],\n",
       "       [0., 0., 0., 0.]])"
      ]
     },
     "execution_count": 47,
     "metadata": {},
     "output_type": "execute_result"
    }
   ],
   "source": [
    "a"
   ]
  },
  {
   "cell_type": "code",
   "execution_count": 50,
   "metadata": {},
   "outputs": [],
   "source": [
    "db_net = pd.read_csv('also_viewed_network.csv',names=['F','T'])"
   ]
  },
  {
   "cell_type": "code",
   "execution_count": 51,
   "metadata": {},
   "outputs": [
    {
     "data": {
      "text/plain": [
       "Index(['F', 'T'], dtype='object')"
      ]
     },
     "execution_count": 51,
     "metadata": {},
     "output_type": "execute_result"
    }
   ],
   "source": [
    "db_net.columns"
   ]
  },
  {
   "cell_type": "code",
   "execution_count": 63,
   "metadata": {},
   "outputs": [],
   "source": [
    "products = db_net['F'].unique()"
   ]
  },
  {
   "cell_type": "code",
   "execution_count": 64,
   "metadata": {},
   "outputs": [
    {
     "data": {
      "text/plain": [
       "4021458"
      ]
     },
     "execution_count": 64,
     "metadata": {},
     "output_type": "execute_result"
    }
   ],
   "source": [
    "len(products)"
   ]
  },
  {
   "cell_type": "code",
   "execution_count": 68,
   "metadata": {},
   "outputs": [],
   "source": [
    "nbr_count = np.random.randint(1,10,(10))"
   ]
  },
  {
   "cell_type": "code",
   "execution_count": 73,
   "metadata": {},
   "outputs": [
    {
     "data": {
      "text/plain": [
       "10"
      ]
     },
     "execution_count": 73,
     "metadata": {},
     "output_type": "execute_result"
    }
   ],
   "source": [
    "nbr_count.shape[0]"
   ]
  },
  {
   "cell_type": "code",
   "execution_count": 74,
   "metadata": {},
   "outputs": [],
   "source": [
    "nbrs = np.zeros((nbr_count.shape[0],np.max(nbr_count)))"
   ]
  },
  {
   "cell_type": "code",
   "execution_count": 77,
   "metadata": {},
   "outputs": [
    {
     "data": {
      "text/plain": [
       "array([[6., 3., 7., 5., 1., 6., 2., 4., 3.],\n",
       "       [6., 4., 0., 0., 0., 0., 0., 0., 0.],\n",
       "       [1., 4., 1., 6., 4., 0., 0., 0., 0.],\n",
       "       [9., 5., 6., 8., 7., 0., 0., 0., 0.],\n",
       "       [2., 1., 1., 5., 1., 0., 0., 0., 0.],\n",
       "       [5., 4., 4., 4., 6., 3., 0., 0., 0.],\n",
       "       [8., 0., 0., 0., 0., 0., 0., 0., 0.],\n",
       "       [7., 2., 7., 4., 4., 0., 0., 0., 0.],\n",
       "       [2., 3., 5., 7., 4., 9., 0., 0., 0.],\n",
       "       [5., 5., 1., 6., 9., 6., 3., 0., 0.]])"
      ]
     },
     "execution_count": 77,
     "metadata": {},
     "output_type": "execute_result"
    }
   ],
   "source": [
    "for i in range(nbr_count.shape[0]):\n",
    "    for j in range(nbr_count[i]):\n",
    "        nbrs[i,j] = np.random.randint(1,10)\n",
    "nbrs        "
   ]
  },
  {
   "cell_type": "code",
   "execution_count": 78,
   "metadata": {},
   "outputs": [],
   "source": [
    "nbrs[0,0]=9"
   ]
  },
  {
   "cell_type": "code",
   "execution_count": 79,
   "metadata": {},
   "outputs": [],
   "source": [
    "nbrs[0,1]=8"
   ]
  },
  {
   "cell_type": "code",
   "execution_count": 88,
   "metadata": {},
   "outputs": [
    {
     "data": {
      "text/plain": [
       "array([[9., 8., 7., 5., 1., 6., 2., 4., 3.],\n",
       "       [6., 4., 0., 0., 0., 0., 0., 0., 0.],\n",
       "       [1., 9., 7., 6., 8., 0., 0., 0., 0.],\n",
       "       [1., 5., 9., 8., 6., 0., 0., 0., 0.],\n",
       "       [2., 7., 4., 5., 1., 0., 0., 0., 0.],\n",
       "       [5., 4., 7., 9., 6., 3., 0., 0., 0.],\n",
       "       [8., 0., 0., 0., 0., 0., 0., 0., 0.],\n",
       "       [7., 2., 8., 5., 4., 0., 0., 0., 0.],\n",
       "       [2., 3., 5., 7., 4., 9., 0., 0., 0.],\n",
       "       [5., 8., 1., 4., 9., 6., 3., 0., 0.]])"
      ]
     },
     "execution_count": 88,
     "metadata": {},
     "output_type": "execute_result"
    }
   ],
   "source": [
    "nbrs[9,1]=8\n",
    "nbrs[9,3]=4\n",
    "nbrs"
   ]
  },
  {
   "cell_type": "code",
   "execution_count": 91,
   "metadata": {},
   "outputs": [
    {
     "name": "stdout",
     "output_type": "stream",
     "text": [
      "The Cython extension is already loaded. To reload it, use:\n",
      "  %reload_ext Cython\n"
     ]
    }
   ],
   "source": [
    "%load_ext Cython\n",
    "from cython.parallel import prange\n",
    "#cython: boundscheck=False, wraparound=False, nonecheck=False"
   ]
  },
  {
   "cell_type": "code",
   "execution_count": 90,
   "metadata": {},
   "outputs": [],
   "source": [
    "walks = np.zeros((100,10))"
   ]
  },
  {
   "cell_type": "code",
   "execution_count": 101,
   "metadata": {},
   "outputs": [
    {
     "name": "stderr",
     "output_type": "stream",
     "text": [
      "\n",
      "Error compiling Cython file:\n",
      "------------------------------------------------------------\n",
      "...\n",
      "\n",
      "def generateWalks(nbrs,nbr_count,walks):\n",
      "    #walks = np.zeros((100,10))\n",
      "    cdef int w_c = 100\n",
      "    cdef int w_l = 10\n",
      "    for i in prange(w_c,nogil=True):\n",
      "            ^\n",
      "------------------------------------------------------------\n",
      "\n",
      "/Users/sandipansikdar/.ipython/cython/_cython_magic_166245a50a66ce196599982fb89013aa.pyx:6:13: undeclared name not builtin: prange\n",
      "\n",
      "Error compiling Cython file:\n",
      "------------------------------------------------------------\n",
      "...\n",
      "def generateWalks(nbrs,nbr_count,walks):\n",
      "    #walks = np.zeros((100,10))\n",
      "    cdef int w_c = 100\n",
      "    cdef int w_l = 10\n",
      "    for i in prange(w_c,nogil=True):\n",
      "        start = np.random.randint(1,9)\n",
      "               ^\n",
      "------------------------------------------------------------\n",
      "\n",
      "/Users/sandipansikdar/.ipython/cython/_cython_magic_166245a50a66ce196599982fb89013aa.pyx:7:16: undeclared name not builtin: np\n"
     ]
    },
    {
     "ename": "TypeError",
     "evalue": "object of type 'NoneType' has no len()",
     "output_type": "error",
     "traceback": [
      "\u001b[0;31m---------------------------------------------------------------------------\u001b[0m",
      "\u001b[0;31mTypeError\u001b[0m                                 Traceback (most recent call last)",
      "\u001b[0;32m<ipython-input-101-a09248281004>\u001b[0m in \u001b[0;36m<module>\u001b[0;34m()\u001b[0m\n\u001b[0;32m----> 1\u001b[0;31m \u001b[0mget_ipython\u001b[0m\u001b[0;34m(\u001b[0m\u001b[0;34m)\u001b[0m\u001b[0;34m.\u001b[0m\u001b[0mrun_cell_magic\u001b[0m\u001b[0;34m(\u001b[0m\u001b[0;34m'cython'\u001b[0m\u001b[0;34m,\u001b[0m \u001b[0;34m''\u001b[0m\u001b[0;34m,\u001b[0m \u001b[0;34m'\\ndef generateWalks(nbrs,nbr_count,walks):\\n    #walks = np.zeros((100,10))\\n    cdef int w_c = 100\\n    cdef int w_l = 10\\n    for i in prange(w_c,nogil=True):\\n        start = np.random.randint(1,9)\\n        walk = np.zeros(10)\\n        walk[0] = start\\n        for j in range(1,w_l):\\n            walk[j] = np.random.choice(nbrs[start,:nbr_count[start]])\\n            start = walk[j]\\n            \\n    return walks        '\u001b[0m\u001b[0;34m)\u001b[0m\u001b[0;34m\u001b[0m\u001b[0m\n\u001b[0m",
      "\u001b[0;32m/anaconda3/lib/python3.6/site-packages/IPython/core/interactiveshell.py\u001b[0m in \u001b[0;36mrun_cell_magic\u001b[0;34m(self, magic_name, line, cell)\u001b[0m\n\u001b[1;32m   2129\u001b[0m             \u001b[0mmagic_arg_s\u001b[0m \u001b[0;34m=\u001b[0m \u001b[0mself\u001b[0m\u001b[0;34m.\u001b[0m\u001b[0mvar_expand\u001b[0m\u001b[0;34m(\u001b[0m\u001b[0mline\u001b[0m\u001b[0;34m,\u001b[0m \u001b[0mstack_depth\u001b[0m\u001b[0;34m)\u001b[0m\u001b[0;34m\u001b[0m\u001b[0m\n\u001b[1;32m   2130\u001b[0m             \u001b[0;32mwith\u001b[0m \u001b[0mself\u001b[0m\u001b[0;34m.\u001b[0m\u001b[0mbuiltin_trap\u001b[0m\u001b[0;34m:\u001b[0m\u001b[0;34m\u001b[0m\u001b[0m\n\u001b[0;32m-> 2131\u001b[0;31m                 \u001b[0mresult\u001b[0m \u001b[0;34m=\u001b[0m \u001b[0mfn\u001b[0m\u001b[0;34m(\u001b[0m\u001b[0mmagic_arg_s\u001b[0m\u001b[0;34m,\u001b[0m \u001b[0mcell\u001b[0m\u001b[0;34m)\u001b[0m\u001b[0;34m\u001b[0m\u001b[0m\n\u001b[0m\u001b[1;32m   2132\u001b[0m             \u001b[0;32mreturn\u001b[0m \u001b[0mresult\u001b[0m\u001b[0;34m\u001b[0m\u001b[0m\n\u001b[1;32m   2133\u001b[0m \u001b[0;34m\u001b[0m\u001b[0m\n",
      "\u001b[0;32m<decorator-gen-127>\u001b[0m in \u001b[0;36mcython\u001b[0;34m(self, line, cell)\u001b[0m\n",
      "\u001b[0;32m/anaconda3/lib/python3.6/site-packages/IPython/core/magic.py\u001b[0m in \u001b[0;36m<lambda>\u001b[0;34m(f, *a, **k)\u001b[0m\n\u001b[1;32m    185\u001b[0m     \u001b[0;31m# but it's overkill for just that one bit of state.\u001b[0m\u001b[0;34m\u001b[0m\u001b[0;34m\u001b[0m\u001b[0m\n\u001b[1;32m    186\u001b[0m     \u001b[0;32mdef\u001b[0m \u001b[0mmagic_deco\u001b[0m\u001b[0;34m(\u001b[0m\u001b[0marg\u001b[0m\u001b[0;34m)\u001b[0m\u001b[0;34m:\u001b[0m\u001b[0;34m\u001b[0m\u001b[0m\n\u001b[0;32m--> 187\u001b[0;31m         \u001b[0mcall\u001b[0m \u001b[0;34m=\u001b[0m \u001b[0;32mlambda\u001b[0m \u001b[0mf\u001b[0m\u001b[0;34m,\u001b[0m \u001b[0;34m*\u001b[0m\u001b[0ma\u001b[0m\u001b[0;34m,\u001b[0m \u001b[0;34m**\u001b[0m\u001b[0mk\u001b[0m\u001b[0;34m:\u001b[0m \u001b[0mf\u001b[0m\u001b[0;34m(\u001b[0m\u001b[0;34m*\u001b[0m\u001b[0ma\u001b[0m\u001b[0;34m,\u001b[0m \u001b[0;34m**\u001b[0m\u001b[0mk\u001b[0m\u001b[0;34m)\u001b[0m\u001b[0;34m\u001b[0m\u001b[0m\n\u001b[0m\u001b[1;32m    188\u001b[0m \u001b[0;34m\u001b[0m\u001b[0m\n\u001b[1;32m    189\u001b[0m         \u001b[0;32mif\u001b[0m \u001b[0mcallable\u001b[0m\u001b[0;34m(\u001b[0m\u001b[0marg\u001b[0m\u001b[0;34m)\u001b[0m\u001b[0;34m:\u001b[0m\u001b[0;34m\u001b[0m\u001b[0m\n",
      "\u001b[0;32m/anaconda3/lib/python3.6/site-packages/Cython/Build/IpythonMagic.py\u001b[0m in \u001b[0;36mcython\u001b[0;34m(self, line, cell)\u001b[0m\n\u001b[1;32m    319\u001b[0m         \u001b[0;32mif\u001b[0m \u001b[0mneed_cythonize\u001b[0m\u001b[0;34m:\u001b[0m\u001b[0;34m\u001b[0m\u001b[0m\n\u001b[1;32m    320\u001b[0m             \u001b[0mextensions\u001b[0m \u001b[0;34m=\u001b[0m \u001b[0mself\u001b[0m\u001b[0;34m.\u001b[0m\u001b[0m_cythonize\u001b[0m\u001b[0;34m(\u001b[0m\u001b[0mmodule_name\u001b[0m\u001b[0;34m,\u001b[0m \u001b[0mcode\u001b[0m\u001b[0;34m,\u001b[0m \u001b[0mlib_dir\u001b[0m\u001b[0;34m,\u001b[0m \u001b[0margs\u001b[0m\u001b[0;34m,\u001b[0m \u001b[0mquiet\u001b[0m\u001b[0;34m=\u001b[0m\u001b[0margs\u001b[0m\u001b[0;34m.\u001b[0m\u001b[0mquiet\u001b[0m\u001b[0;34m)\u001b[0m\u001b[0;34m\u001b[0m\u001b[0m\n\u001b[0;32m--> 321\u001b[0;31m             \u001b[0;32massert\u001b[0m \u001b[0mlen\u001b[0m\u001b[0;34m(\u001b[0m\u001b[0mextensions\u001b[0m\u001b[0;34m)\u001b[0m \u001b[0;34m==\u001b[0m \u001b[0;36m1\u001b[0m\u001b[0;34m\u001b[0m\u001b[0m\n\u001b[0m\u001b[1;32m    322\u001b[0m             \u001b[0mextension\u001b[0m \u001b[0;34m=\u001b[0m \u001b[0mextensions\u001b[0m\u001b[0;34m[\u001b[0m\u001b[0;36m0\u001b[0m\u001b[0;34m]\u001b[0m\u001b[0;34m\u001b[0m\u001b[0m\n\u001b[1;32m    323\u001b[0m             \u001b[0mself\u001b[0m\u001b[0;34m.\u001b[0m\u001b[0m_code_cache\u001b[0m\u001b[0;34m[\u001b[0m\u001b[0mkey\u001b[0m\u001b[0;34m]\u001b[0m \u001b[0;34m=\u001b[0m \u001b[0mmodule_name\u001b[0m\u001b[0;34m\u001b[0m\u001b[0m\n",
      "\u001b[0;31mTypeError\u001b[0m: object of type 'NoneType' has no len()"
     ]
    }
   ],
   "source": [
    "%%cython\n",
    "\n",
    "def generateWalks(nbrs,nbr_count,walks):\n",
    "    #walks = np.zeros((100,10))\n",
    "    cdef int w_c = 100\n",
    "    cdef int w_l = 10\n",
    "    for i in prange(w_c,nogil=True):\n",
    "        start = np.random.randint(1,9)\n",
    "        walk = np.zeros(10)\n",
    "        walk[0] = start\n",
    "        for j in range(1,w_l):\n",
    "            walk[j] = np.random.choice(nbrs[start,:nbr_count[start]])\n",
    "            start = walk[j]\n",
    "            \n",
    "    return walks        "
   ]
  },
  {
   "cell_type": "code",
   "execution_count": null,
   "metadata": {},
   "outputs": [],
   "source": []
  },
  {
   "cell_type": "code",
   "execution_count": 98,
   "metadata": {},
   "outputs": [
    {
     "data": {
      "text/plain": [
       "7.0"
      ]
     },
     "execution_count": 98,
     "metadata": {},
     "output_type": "execute_result"
    }
   ],
   "source": [
    "np.random.choice(nbrs[2,:nbr_count[2]])"
   ]
  },
  {
   "cell_type": "code",
   "execution_count": null,
   "metadata": {},
   "outputs": [],
   "source": []
  }
 ],
 "metadata": {
  "kernelspec": {
   "display_name": "Python 3",
   "language": "python",
   "name": "python3"
  },
  "language_info": {
   "codemirror_mode": {
    "name": "ipython",
    "version": 3
   },
   "file_extension": ".py",
   "mimetype": "text/x-python",
   "name": "python",
   "nbconvert_exporter": "python",
   "pygments_lexer": "ipython3",
   "version": "3.6.4"
  }
 },
 "nbformat": 4,
 "nbformat_minor": 2
}
