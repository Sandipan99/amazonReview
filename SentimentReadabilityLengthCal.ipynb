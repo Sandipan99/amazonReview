{
 "cells": [
  {
   "cell_type": "markdown",
   "metadata": {},
   "source": [
    "# Notebook for calculating sentiment, readability and length"
   ]
  },
  {
   "cell_type": "code",
   "execution_count": 2,
   "metadata": {},
   "outputs": [],
   "source": [
    "import pandas as pd\n",
    "import numpy as np"
   ]
  },
  {
   "cell_type": "code",
   "execution_count": 4,
   "metadata": {},
   "outputs": [],
   "source": [
    "import gzip\n",
    "import csv\n",
    "import string\n",
    "import math\n",
    "import nltk\n",
    "from nltk.tokenize import sent_tokenize, word_tokenize\n",
    "from nltk.corpus import cmudict\n",
    "from nltk.corpus import stopwords\n",
    "from nltk.tokenize import RegexpTokenizer\n",
    "import matplotlib.pyplot as plt\n",
    "import matplotlib.patches as mpatches\n",
    "from datetime import datetime\n",
    "%matplotlib inline"
   ]
  },
  {
   "cell_type": "code",
   "execution_count": 5,
   "metadata": {},
   "outputs": [],
   "source": [
    "#read csv\n",
    "\n",
    "fields = ['Product_Id','Gender','Helpfulness','Review','Overall_Rating','Timestamp']\n",
    "df_male = pd.read_csv('/media/backup/Data/Amazon/amazon_male.csv', sep='|',encoding='utf8',quoting=csv.QUOTE_NONE,usecols=fields)"
   ]
  },
  {
   "cell_type": "code",
   "execution_count": 6,
   "metadata": {},
   "outputs": [],
   "source": [
    "not_punctuation = lambda w: not (len(w)==1 and (not w.isalpha()))\n",
    "#get_word_count = lambda text: len(list(filter(not_punctuation, word_tokenize(text))))\n",
    "get_sent_count = lambda text: len(sent_tokenize(text))"
   ]
  },
  {
   "cell_type": "code",
   "execution_count": 49,
   "metadata": {},
   "outputs": [],
   "source": [
    "TOKENIZER = RegexpTokenizer('(?u)\\W+|\\$[\\d\\.]+|\\S+')\n",
    "SPECIAL_CHARS = ['.', ',', '!', '?']\n",
    "\n",
    "def get_words(text=''):\n",
    "    words = []\n",
    "    words = TOKENIZER.tokenize(text)\n",
    "    filtered_words = []\n",
    "    for word in words:\n",
    "        if word in SPECIAL_CHARS or word == \" \":\n",
    "            pass\n",
    "        else:\n",
    "            new_word = word.replace(\",\",\"\").replace(\".\",\"\")\n",
    "            new_word = new_word.replace(\"!\",\"\").replace(\"?\",\"\")\n",
    "            filtered_words.append(new_word)\n",
    "    return filtered_words"
   ]
  },
  {
   "cell_type": "code",
   "execution_count": 8,
   "metadata": {},
   "outputs": [
    {
     "name": "stdout",
     "output_type": "stream",
     "text": [
      "[nltk_data] Downloading package cmudict to /home/rachneet/nltk_data...\n",
      "[nltk_data]   Package cmudict is already up-to-date!\n"
     ]
    }
   ],
   "source": [
    "nltk.download('cmudict')\n",
    "prondict = cmudict.dict()"
   ]
  },
  {
   "cell_type": "code",
   "execution_count": 9,
   "metadata": {},
   "outputs": [],
   "source": [
    "def numsyllables(word):\n",
    "    try:\n",
    "        return [len(list(y for y in x if (y[-1]).isdigit())) for x in prondict[word.lower()]]\n",
    "    except KeyError:\n",
    "        return [0]"
   ]
  },
  {
   "cell_type": "code",
   "execution_count": 10,
   "metadata": {},
   "outputs": [],
   "source": [
    "def text_statistics(text):\n",
    "    word_count = len(get_words(text))\n",
    "    sent_count = get_sent_count(text)\n",
    "    #if more than one pronunciation, take the largest no. of syllables\n",
    "    syllable_count = sum(map(lambda w: max(numsyllables(w)), word_tokenize(text)))\n",
    "    \n",
    "    analyzedVars = {\n",
    "        'word_cnt': float(word_count),\n",
    "        'sentence_cnt': float(sent_count),\n",
    "        'syllable_cnt': float(syllable_count),\n",
    "    }\n",
    "    \n",
    "    return analyzedVars['word_cnt'],analyzedVars['sentence_cnt'], analyzedVars['syllable_cnt']"
   ]
  },
  {
   "cell_type": "code",
   "execution_count": 11,
   "metadata": {},
   "outputs": [],
   "source": [
    "#Flesch Kincaid measure of readability\n",
    "\n",
    "#readability ease\n",
    "flesch_formula = lambda word_count, sent_count, syllable_count : 206.835 - 1.015*word_count/sent_count - 84.6*syllable_count/word_count\n",
    "\n",
    "def flesch(text):\n",
    "    word_count, sent_count, syllable_count = text_statistics(text)\n",
    "    #print(word_count,sent_count,syllable_count)\n",
    "    score = 0.0\n",
    "    if word_count > 0.0:\n",
    "        score = round(flesch_formula(word_count, sent_count, syllable_count))\n",
    "    return score\n",
    "\n",
    "#grade level\n",
    "fk_formula = lambda word_count, sent_count, syllable_count : 0.39 * word_count / sent_count + 11.8 * syllable_count / word_count - 15.59\n",
    "\n",
    "def flesch_kincaid(text):\n",
    "    word_count, sent_count, syllable_count = text_statistics(text)\n",
    "    score = 0.0\n",
    "    if word_count > 0.0:\n",
    "        score = round(fk_formula(word_count, sent_count, syllable_count))\n",
    "    return score"
   ]
  },
  {
   "cell_type": "code",
   "execution_count": 16,
   "metadata": {},
   "outputs": [],
   "source": [
    "def length(text):\n",
    "    word_count, sent_count, syllable_count = text_statistics(text)\n",
    "    return word_count"
   ]
  },
  {
   "cell_type": "code",
   "execution_count": 12,
   "metadata": {},
   "outputs": [],
   "source": [
    "df_male_sample = df_male.sample(1000)"
   ]
  },
  {
   "cell_type": "code",
   "execution_count": 13,
   "metadata": {},
   "outputs": [
    {
     "data": {
      "text/html": [
       "<div>\n",
       "<style scoped>\n",
       "    .dataframe tbody tr th:only-of-type {\n",
       "        vertical-align: middle;\n",
       "    }\n",
       "\n",
       "    .dataframe tbody tr th {\n",
       "        vertical-align: top;\n",
       "    }\n",
       "\n",
       "    .dataframe thead th {\n",
       "        text-align: right;\n",
       "    }\n",
       "</style>\n",
       "<table border=\"1\" class=\"dataframe\">\n",
       "  <thead>\n",
       "    <tr style=\"text-align: right;\">\n",
       "      <th></th>\n",
       "      <th>Product_Id</th>\n",
       "      <th>Gender</th>\n",
       "      <th>Helpfulness</th>\n",
       "      <th>Review</th>\n",
       "      <th>Overall_Rating</th>\n",
       "      <th>Timestamp</th>\n",
       "    </tr>\n",
       "  </thead>\n",
       "  <tbody>\n",
       "    <tr>\n",
       "      <th>7844827</th>\n",
       "      <td>B000FFJ85I</td>\n",
       "      <td>male</td>\n",
       "      <td>4,4</td>\n",
       "      <td>...if you are expecting AFI to cut back to the...</td>\n",
       "      <td>3.0</td>\n",
       "      <td>1150243200</td>\n",
       "    </tr>\n",
       "    <tr>\n",
       "      <th>6898881</th>\n",
       "      <td>B001VNB56I</td>\n",
       "      <td>male</td>\n",
       "      <td>4,5</td>\n",
       "      <td>This is not a review of the album per se.  Let...</td>\n",
       "      <td>4.0</td>\n",
       "      <td>1242432000</td>\n",
       "    </tr>\n",
       "    <tr>\n",
       "      <th>6163747</th>\n",
       "      <td>B003VNCROU</td>\n",
       "      <td>male</td>\n",
       "      <td>1,3</td>\n",
       "      <td>I thought Dragon would be a great way for my 5...</td>\n",
       "      <td>3.0</td>\n",
       "      <td>1289260800</td>\n",
       "    </tr>\n",
       "    <tr>\n",
       "      <th>4147729</th>\n",
       "      <td>B000B7TU5S</td>\n",
       "      <td>male</td>\n",
       "      <td>2,2</td>\n",
       "      <td>Space Trilogy (C. S. Lewis)C. S. Lewis's serie...</td>\n",
       "      <td>5.0</td>\n",
       "      <td>1191628800</td>\n",
       "    </tr>\n",
       "    <tr>\n",
       "      <th>2110180</th>\n",
       "      <td>B002N2KJ7W</td>\n",
       "      <td>male</td>\n",
       "      <td>2,3</td>\n",
       "      <td>I had knee surgery a few years ago and riding ...</td>\n",
       "      <td>5.0</td>\n",
       "      <td>1358985600</td>\n",
       "    </tr>\n",
       "  </tbody>\n",
       "</table>\n",
       "</div>"
      ],
      "text/plain": [
       "         Product_Id Gender Helpfulness  \\\n",
       "7844827  B000FFJ85I   male         4,4   \n",
       "6898881  B001VNB56I   male         4,5   \n",
       "6163747  B003VNCROU   male         1,3   \n",
       "4147729  B000B7TU5S   male         2,2   \n",
       "2110180  B002N2KJ7W   male         2,3   \n",
       "\n",
       "                                                    Review  Overall_Rating  \\\n",
       "7844827  ...if you are expecting AFI to cut back to the...             3.0   \n",
       "6898881  This is not a review of the album per se.  Let...             4.0   \n",
       "6163747  I thought Dragon would be a great way for my 5...             3.0   \n",
       "4147729  Space Trilogy (C. S. Lewis)C. S. Lewis's serie...             5.0   \n",
       "2110180  I had knee surgery a few years ago and riding ...             5.0   \n",
       "\n",
       "          Timestamp  \n",
       "7844827  1150243200  \n",
       "6898881  1242432000  \n",
       "6163747  1289260800  \n",
       "4147729  1191628800  \n",
       "2110180  1358985600  "
      ]
     },
     "execution_count": 13,
     "metadata": {},
     "output_type": "execute_result"
    }
   ],
   "source": [
    "df_male_sample.head()"
   ]
  },
  {
   "cell_type": "code",
   "execution_count": 14,
   "metadata": {},
   "outputs": [],
   "source": [
    "df_male_sample['Grade_level'] = df_male_sample['Review'].apply(lambda x: flesch_kincaid(x))"
   ]
  },
  {
   "cell_type": "code",
   "execution_count": 15,
   "metadata": {},
   "outputs": [
    {
     "data": {
      "text/html": [
       "<div>\n",
       "<style scoped>\n",
       "    .dataframe tbody tr th:only-of-type {\n",
       "        vertical-align: middle;\n",
       "    }\n",
       "\n",
       "    .dataframe tbody tr th {\n",
       "        vertical-align: top;\n",
       "    }\n",
       "\n",
       "    .dataframe thead th {\n",
       "        text-align: right;\n",
       "    }\n",
       "</style>\n",
       "<table border=\"1\" class=\"dataframe\">\n",
       "  <thead>\n",
       "    <tr style=\"text-align: right;\">\n",
       "      <th></th>\n",
       "      <th>Product_Id</th>\n",
       "      <th>Gender</th>\n",
       "      <th>Helpfulness</th>\n",
       "      <th>Review</th>\n",
       "      <th>Overall_Rating</th>\n",
       "      <th>Timestamp</th>\n",
       "      <th>Grade_level</th>\n",
       "    </tr>\n",
       "  </thead>\n",
       "  <tbody>\n",
       "    <tr>\n",
       "      <th>7844827</th>\n",
       "      <td>B000FFJ85I</td>\n",
       "      <td>male</td>\n",
       "      <td>4,4</td>\n",
       "      <td>...if you are expecting AFI to cut back to the...</td>\n",
       "      <td>3.0</td>\n",
       "      <td>1150243200</td>\n",
       "      <td>11</td>\n",
       "    </tr>\n",
       "    <tr>\n",
       "      <th>6898881</th>\n",
       "      <td>B001VNB56I</td>\n",
       "      <td>male</td>\n",
       "      <td>4,5</td>\n",
       "      <td>This is not a review of the album per se.  Let...</td>\n",
       "      <td>4.0</td>\n",
       "      <td>1242432000</td>\n",
       "      <td>8</td>\n",
       "    </tr>\n",
       "    <tr>\n",
       "      <th>6163747</th>\n",
       "      <td>B003VNCROU</td>\n",
       "      <td>male</td>\n",
       "      <td>1,3</td>\n",
       "      <td>I thought Dragon would be a great way for my 5...</td>\n",
       "      <td>3.0</td>\n",
       "      <td>1289260800</td>\n",
       "      <td>13</td>\n",
       "    </tr>\n",
       "    <tr>\n",
       "      <th>4147729</th>\n",
       "      <td>B000B7TU5S</td>\n",
       "      <td>male</td>\n",
       "      <td>2,2</td>\n",
       "      <td>Space Trilogy (C. S. Lewis)C. S. Lewis's serie...</td>\n",
       "      <td>5.0</td>\n",
       "      <td>1191628800</td>\n",
       "      <td>10</td>\n",
       "    </tr>\n",
       "    <tr>\n",
       "      <th>2110180</th>\n",
       "      <td>B002N2KJ7W</td>\n",
       "      <td>male</td>\n",
       "      <td>2,3</td>\n",
       "      <td>I had knee surgery a few years ago and riding ...</td>\n",
       "      <td>5.0</td>\n",
       "      <td>1358985600</td>\n",
       "      <td>5</td>\n",
       "    </tr>\n",
       "  </tbody>\n",
       "</table>\n",
       "</div>"
      ],
      "text/plain": [
       "         Product_Id Gender Helpfulness  \\\n",
       "7844827  B000FFJ85I   male         4,4   \n",
       "6898881  B001VNB56I   male         4,5   \n",
       "6163747  B003VNCROU   male         1,3   \n",
       "4147729  B000B7TU5S   male         2,2   \n",
       "2110180  B002N2KJ7W   male         2,3   \n",
       "\n",
       "                                                    Review  Overall_Rating  \\\n",
       "7844827  ...if you are expecting AFI to cut back to the...             3.0   \n",
       "6898881  This is not a review of the album per se.  Let...             4.0   \n",
       "6163747  I thought Dragon would be a great way for my 5...             3.0   \n",
       "4147729  Space Trilogy (C. S. Lewis)C. S. Lewis's serie...             5.0   \n",
       "2110180  I had knee surgery a few years ago and riding ...             5.0   \n",
       "\n",
       "          Timestamp  Grade_level  \n",
       "7844827  1150243200           11  \n",
       "6898881  1242432000            8  \n",
       "6163747  1289260800           13  \n",
       "4147729  1191628800           10  \n",
       "2110180  1358985600            5  "
      ]
     },
     "execution_count": 15,
     "metadata": {},
     "output_type": "execute_result"
    }
   ],
   "source": [
    "df_male_sample.head()"
   ]
  },
  {
   "cell_type": "code",
   "execution_count": 17,
   "metadata": {},
   "outputs": [],
   "source": [
    "df_male_sample['length'] = df_male_sample['Review'].apply(lambda x: length(x))"
   ]
  },
  {
   "cell_type": "code",
   "execution_count": 18,
   "metadata": {},
   "outputs": [
    {
     "data": {
      "text/html": [
       "<div>\n",
       "<style scoped>\n",
       "    .dataframe tbody tr th:only-of-type {\n",
       "        vertical-align: middle;\n",
       "    }\n",
       "\n",
       "    .dataframe tbody tr th {\n",
       "        vertical-align: top;\n",
       "    }\n",
       "\n",
       "    .dataframe thead th {\n",
       "        text-align: right;\n",
       "    }\n",
       "</style>\n",
       "<table border=\"1\" class=\"dataframe\">\n",
       "  <thead>\n",
       "    <tr style=\"text-align: right;\">\n",
       "      <th></th>\n",
       "      <th>Product_Id</th>\n",
       "      <th>Gender</th>\n",
       "      <th>Helpfulness</th>\n",
       "      <th>Review</th>\n",
       "      <th>Overall_Rating</th>\n",
       "      <th>Timestamp</th>\n",
       "      <th>Grade_level</th>\n",
       "      <th>length</th>\n",
       "    </tr>\n",
       "  </thead>\n",
       "  <tbody>\n",
       "    <tr>\n",
       "      <th>7844827</th>\n",
       "      <td>B000FFJ85I</td>\n",
       "      <td>male</td>\n",
       "      <td>4,4</td>\n",
       "      <td>...if you are expecting AFI to cut back to the...</td>\n",
       "      <td>3.0</td>\n",
       "      <td>1150243200</td>\n",
       "      <td>11</td>\n",
       "      <td>161.0</td>\n",
       "    </tr>\n",
       "    <tr>\n",
       "      <th>6898881</th>\n",
       "      <td>B001VNB56I</td>\n",
       "      <td>male</td>\n",
       "      <td>4,5</td>\n",
       "      <td>This is not a review of the album per se.  Let...</td>\n",
       "      <td>4.0</td>\n",
       "      <td>1242432000</td>\n",
       "      <td>8</td>\n",
       "      <td>165.0</td>\n",
       "    </tr>\n",
       "    <tr>\n",
       "      <th>6163747</th>\n",
       "      <td>B003VNCROU</td>\n",
       "      <td>male</td>\n",
       "      <td>1,3</td>\n",
       "      <td>I thought Dragon would be a great way for my 5...</td>\n",
       "      <td>3.0</td>\n",
       "      <td>1289260800</td>\n",
       "      <td>13</td>\n",
       "      <td>158.0</td>\n",
       "    </tr>\n",
       "    <tr>\n",
       "      <th>4147729</th>\n",
       "      <td>B000B7TU5S</td>\n",
       "      <td>male</td>\n",
       "      <td>2,2</td>\n",
       "      <td>Space Trilogy (C. S. Lewis)C. S. Lewis's serie...</td>\n",
       "      <td>5.0</td>\n",
       "      <td>1191628800</td>\n",
       "      <td>10</td>\n",
       "      <td>1079.0</td>\n",
       "    </tr>\n",
       "    <tr>\n",
       "      <th>2110180</th>\n",
       "      <td>B002N2KJ7W</td>\n",
       "      <td>male</td>\n",
       "      <td>2,3</td>\n",
       "      <td>I had knee surgery a few years ago and riding ...</td>\n",
       "      <td>5.0</td>\n",
       "      <td>1358985600</td>\n",
       "      <td>5</td>\n",
       "      <td>20.0</td>\n",
       "    </tr>\n",
       "  </tbody>\n",
       "</table>\n",
       "</div>"
      ],
      "text/plain": [
       "         Product_Id Gender Helpfulness  \\\n",
       "7844827  B000FFJ85I   male         4,4   \n",
       "6898881  B001VNB56I   male         4,5   \n",
       "6163747  B003VNCROU   male         1,3   \n",
       "4147729  B000B7TU5S   male         2,2   \n",
       "2110180  B002N2KJ7W   male         2,3   \n",
       "\n",
       "                                                    Review  Overall_Rating  \\\n",
       "7844827  ...if you are expecting AFI to cut back to the...             3.0   \n",
       "6898881  This is not a review of the album per se.  Let...             4.0   \n",
       "6163747  I thought Dragon would be a great way for my 5...             3.0   \n",
       "4147729  Space Trilogy (C. S. Lewis)C. S. Lewis's serie...             5.0   \n",
       "2110180  I had knee surgery a few years ago and riding ...             5.0   \n",
       "\n",
       "          Timestamp  Grade_level  length  \n",
       "7844827  1150243200           11   161.0  \n",
       "6898881  1242432000            8   165.0  \n",
       "6163747  1289260800           13   158.0  \n",
       "4147729  1191628800           10  1079.0  \n",
       "2110180  1358985600            5    20.0  "
      ]
     },
     "execution_count": 18,
     "metadata": {},
     "output_type": "execute_result"
    }
   ],
   "source": [
    "df_male_sample.head()"
   ]
  },
  {
   "cell_type": "code",
   "execution_count": 21,
   "metadata": {},
   "outputs": [
    {
     "data": {
      "text/plain": [
       "Overall_Rating    4.082000e+00\n",
       "Timestamp         1.318792e+09\n",
       "Grade_level       7.232000e+00\n",
       "length            9.690200e+01\n",
       "dtype: float64"
      ]
     },
     "execution_count": 21,
     "metadata": {},
     "output_type": "execute_result"
    }
   ],
   "source": [
    "df_male_sample.mean()"
   ]
  },
  {
   "cell_type": "code",
   "execution_count": 29,
   "metadata": {
    "scrolled": false
   },
   "outputs": [
    {
     "data": {
      "text/plain": [
       "2110180    I had knee surgery a few years ago and riding my bike was very painful. This item solved my problem.\n",
       "Name: Review, dtype: object"
      ]
     },
     "execution_count": 29,
     "metadata": {},
     "output_type": "execute_result"
    }
   ],
   "source": [
    "df_male_sample[df_male_sample['Product_Id']=='B002N2KJ7W']['Review']"
   ]
  },
  {
   "cell_type": "code",
   "execution_count": 27,
   "metadata": {},
   "outputs": [],
   "source": [
    "pd.set_option('display.max_colwidth', -1)"
   ]
  },
  {
   "cell_type": "code",
   "execution_count": 30,
   "metadata": {},
   "outputs": [
    {
     "name": "stderr",
     "output_type": "stream",
     "text": [
      "/home/rachneet/anaconda3/lib/python3.6/site-packages/nltk/twitter/__init__.py:20: UserWarning: The twython library has not been installed. Some functionality from the twitter package will not be available.\n",
      "  warnings.warn(\"The twython library has not been installed. \"\n"
     ]
    },
    {
     "name": "stdout",
     "output_type": "stream",
     "text": [
      "[nltk_data] Downloading package vader_lexicon to\n",
      "[nltk_data]     /home/rachneet/nltk_data...\n",
      "[nltk_data]   Package vader_lexicon is already up-to-date!\n"
     ]
    }
   ],
   "source": [
    "from  nltk.sentiment.vader import SentimentIntensityAnalyzer as SIA\n",
    "\n",
    "nltk.download('vader_lexicon')\n",
    "\n",
    "sia = SIA()\n",
    "#results = []\n",
    "\n",
    "# def sentiment_analyser(rev):\n",
    "#     pol_score = sia.polarity_scores(rev)\n",
    "#     pol_score['Review'] = rev\n",
    "#     results.append(pol_score)\n",
    "#     return results\n",
    "\n",
    "\n",
    "df_male_sample['Sentiment'] = df_male_sample['Review'].apply(lambda x : sia.polarity_scores(x))"
   ]
  },
  {
   "cell_type": "code",
   "execution_count": 32,
   "metadata": {},
   "outputs": [],
   "source": [
    "words = stopwords.words(\"english\")\n",
    "#remove punctuation for each word\n",
    "#maketrans() method returns a translation table that maps each character in the \n",
    "#intab string into the character at the same position in the outtab string\n",
    "table = str.maketrans('','', string.punctuation)"
   ]
  },
  {
   "cell_type": "code",
   "execution_count": 40,
   "metadata": {},
   "outputs": [],
   "source": [
    "def sentiment(text):\n",
    "    cleaned_text = \" \".join([i.translate(table) for i in text.split() if i.isalpha() if i not in words]).lower()\n",
    "    return sia.polarity_scores(cleaned_text)"
   ]
  },
  {
   "cell_type": "code",
   "execution_count": 46,
   "metadata": {},
   "outputs": [],
   "source": [
    "df_male = df_male.dropna()"
   ]
  },
  {
   "cell_type": "code",
   "execution_count": 41,
   "metadata": {},
   "outputs": [],
   "source": [
    "df_male_sample['Sentiment'] = df_male_sample['Review'].apply(lambda x: sentiment(x))"
   ]
  },
  {
   "cell_type": "code",
   "execution_count": 47,
   "metadata": {},
   "outputs": [
    {
     "data": {
      "text/plain": [
       "Product_Id        16945315\n",
       "Gender            16945315\n",
       "Helpfulness       16945315\n",
       "Review            16945315\n",
       "Overall_Rating    16945315\n",
       "Timestamp         16945315\n",
       "dtype: int64"
      ]
     },
     "execution_count": 47,
     "metadata": {},
     "output_type": "execute_result"
    }
   ],
   "source": [
    "df_male.count()"
   ]
  },
  {
   "cell_type": "code",
   "execution_count": 50,
   "metadata": {},
   "outputs": [],
   "source": [
    "df_male['Grade_level'] = df_male['Review'].apply(lambda x: flesch_kincaid(x))"
   ]
  },
  {
   "cell_type": "code",
   "execution_count": 51,
   "metadata": {},
   "outputs": [],
   "source": [
    "import gc"
   ]
  },
  {
   "cell_type": "code",
   "execution_count": 52,
   "metadata": {},
   "outputs": [],
   "source": [
    "df_male['length'] = df_male['Review'].apply(lambda x: length(x))\n",
    "df_male['Sentiment'] = df_male['Review'].apply(lambda x: sentiment(x))"
   ]
  },
  {
   "cell_type": "code",
   "execution_count": 53,
   "metadata": {},
   "outputs": [],
   "source": [
    "df_male.to_csv('male_l_s_r.csv',sep='|')"
   ]
  },
  {
   "cell_type": "code",
   "execution_count": 55,
   "metadata": {},
   "outputs": [
    {
     "data": {
      "text/plain": [
       "Product_Id        16945315\n",
       "Gender            16945315\n",
       "Helpfulness       16945315\n",
       "Review            16945315\n",
       "Overall_Rating    16945315\n",
       "Timestamp         16945315\n",
       "Grade_level       16945315\n",
       "length            16945315\n",
       "Sentiment         16945315\n",
       "dtype: int64"
      ]
     },
     "execution_count": 55,
     "metadata": {},
     "output_type": "execute_result"
    }
   ],
   "source": [
    "df_male.count()"
   ]
  },
  {
   "cell_type": "code",
   "execution_count": 56,
   "metadata": {},
   "outputs": [
    {
     "data": {
      "text/plain": [
       "14"
      ]
     },
     "execution_count": 56,
     "metadata": {},
     "output_type": "execute_result"
    }
   ],
   "source": [
    "del df_male\n",
    "gc.collect()"
   ]
  },
  {
   "cell_type": "code",
   "execution_count": 57,
   "metadata": {},
   "outputs": [
    {
     "name": "stdout",
     "output_type": "stream",
     "text": [
      "loaded dataset to memory\n",
      "calculated grade-level\n",
      "calculated length\n",
      "calculated sentiment\n"
     ]
    }
   ],
   "source": [
    "df_female = pd.read_csv('/media/backup/Data/Amazon/amazon_female.csv', sep='|',encoding='utf8',quoting=csv.QUOTE_NONE,usecols=fields)\n",
    "df_female = df_female.dropna()\n",
    "print('loaded dataset to memory')\n",
    "df_female['Grade_level'] = df_female['Review'].apply(lambda x: flesch_kincaid(x))\n",
    "print('calculated grade-level')\n",
    "df_female['length'] = df_female['Review'].apply(lambda x: length(x))\n",
    "print('calculated length')\n",
    "df_female['Sentiment'] = df_female['Review'].apply(lambda x: sentiment(x))\n",
    "print('calculated sentiment')"
   ]
  },
  {
   "cell_type": "code",
   "execution_count": 58,
   "metadata": {},
   "outputs": [],
   "source": [
    "df_female.to_csv('female_l_s_r.csv',sep='|')"
   ]
  },
  {
   "cell_type": "code",
   "execution_count": 59,
   "metadata": {},
   "outputs": [
    {
     "data": {
      "text/plain": [
       "Product_Id        15765700\n",
       "Gender            15765700\n",
       "Helpfulness       15765700\n",
       "Review            15765700\n",
       "Overall_Rating    15765700\n",
       "Timestamp         15765700\n",
       "Grade_level       15765700\n",
       "length            15765700\n",
       "Sentiment         15765700\n",
       "dtype: int64"
      ]
     },
     "execution_count": 59,
     "metadata": {},
     "output_type": "execute_result"
    }
   ],
   "source": [
    "df_female.count()"
   ]
  },
  {
   "cell_type": "code",
   "execution_count": null,
   "metadata": {},
   "outputs": [],
   "source": []
  }
 ],
 "metadata": {
  "kernelspec": {
   "display_name": "Python 3",
   "language": "python",
   "name": "python3"
  },
  "language_info": {
   "codemirror_mode": {
    "name": "ipython",
    "version": 3
   },
   "file_extension": ".py",
   "mimetype": "text/x-python",
   "name": "python",
   "nbconvert_exporter": "python",
   "pygments_lexer": "ipython3",
   "version": "3.6.7"
  }
 },
 "nbformat": 4,
 "nbformat_minor": 2
}
