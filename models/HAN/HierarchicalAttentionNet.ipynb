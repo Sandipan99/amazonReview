{
 "cells": [
  {
   "cell_type": "code",
   "execution_count": 59,
   "metadata": {},
   "outputs": [],
   "source": [
    "import torch\n",
    "import torch.nn as nn\n",
    "from torch import optim\n",
    "import torch.nn.functional as F\n",
    "import random\n",
    "import numpy as np"
   ]
  },
  {
   "cell_type": "code",
   "execution_count": 3,
   "metadata": {},
   "outputs": [],
   "source": [
    "from collections import Counter\n",
    "from nltk.corpus import stopwords\n",
    "from nltk.tokenize import word_tokenize\n",
    "from nltk.stem import PorterStemmer"
   ]
  },
  {
   "cell_type": "code",
   "execution_count": 7,
   "metadata": {},
   "outputs": [],
   "source": [
    "import string"
   ]
  },
  {
   "cell_type": "code",
   "execution_count": 55,
   "metadata": {},
   "outputs": [],
   "source": [
    "def clean(translator,stop_words,ps,**kwargs): # obtains a word to index mapping as well\n",
    "    count = 0\n",
    "    vocabulary = Counter()\n",
    "    w2i = {}\n",
    "    for label,fname in kwargs.items():\n",
    "        with open(fname+'_cleaned','w') as ft:\n",
    "            with open(fname) as fs:\n",
    "                for line in fs:\n",
    "                    count+=1\n",
    "                    label = line[0]\n",
    "                    review = line[2:]\n",
    "                    label = line[0]\n",
    "                    review = line[2:]\n",
    "                    sents = review.strip().split('.')\n",
    "                    sents = [[ps.stem(w) for w in word_tokenize(s.translate(translator)) if w not in stop_words] \\\n",
    "                             for s in sents if len(s)>1]\n",
    "                    words = sum(sents,[])\n",
    "                    for w in words:\n",
    "                        vocabulary[w] = 1\n",
    "                    rev = '.'.join([' '.join(s) for s in sents])\n",
    "                    ft.write(label+','+rev)\n",
    "                    ft.write('\\n')\n",
    "                    if count%1000000==0:  \n",
    "                        print('cleaned reviews: ',count)\n",
    "                        \n",
    "    count = 1\n",
    "    for w in vocabulary:\n",
    "        w2i[w]=count\n",
    "        count+=1\n",
    "    return w2i    "
   ]
  },
  {
   "cell_type": "code",
   "execution_count": 56,
   "metadata": {},
   "outputs": [],
   "source": [
    "translator = str.maketrans('', '', string.punctuation)\n",
    "stop_words = set(stopwords.words('english'))\n",
    "ps = PorterStemmer()\n",
    "w2i = clean(translator,stop_words,ps,file='../Data/test_s.csv')"
   ]
  },
  {
   "cell_type": "code",
   "execution_count": 57,
   "metadata": {},
   "outputs": [
    {
     "data": {
      "text/plain": [
       "644"
      ]
     },
     "execution_count": 57,
     "metadata": {},
     "output_type": "execute_result"
    }
   ],
   "source": [
    "len(w2i)                    "
   ]
  },
  {
   "cell_type": "code",
   "execution_count": 104,
   "metadata": {},
   "outputs": [],
   "source": [
    "def text2tensor(review,w2i):\n",
    "    out = [[w2i[w] for w in sents.split()] for sents in review if len(sents)>0] \n",
    "    return out"
   ]
  },
  {
   "cell_type": "code",
   "execution_count": 105,
   "metadata": {},
   "outputs": [],
   "source": [
    "def creatingDataset(fname,w2i):  # dictionary of list of tuples (rev,label)\n",
    "    dataset = {}\n",
    "    with open(fname+'_cleaned') as fs:\n",
    "        for line in fs:\n",
    "            label = int(line[0])\n",
    "            review = line[2:]\n",
    "            temp = review.strip().split('.')\n",
    "            length = len(temp)\n",
    "            if length not in dataset:\n",
    "                dataset[length] = []\n",
    "            encoded_review = text2tensor(temp,w2i)\n",
    "            dataset[length].append((encoded_review,label))\n",
    "    return dataset    "
   ]
  },
  {
   "cell_type": "code",
   "execution_count": 106,
   "metadata": {},
   "outputs": [],
   "source": [
    "train_dataset = creatingDataset('../Data/test_s.csv',w2i)"
   ]
  },
  {
   "cell_type": "code",
   "execution_count": 107,
   "metadata": {},
   "outputs": [
    {
     "name": "stdout",
     "output_type": "stream",
     "text": [
      "6 2\n",
      "3 13\n",
      "23 1\n",
      "2 4\n",
      "9 1\n",
      "5 3\n",
      "11 1\n"
     ]
    }
   ],
   "source": [
    "for key in train_dataset:\n",
    "    print(key,len(train_dataset[key]))"
   ]
  },
  {
   "cell_type": "code",
   "execution_count": 83,
   "metadata": {},
   "outputs": [
    {
     "data": {
      "text/plain": [
       "dict_keys([6, 3, 23, 2, 9, 5, 11])"
      ]
     },
     "execution_count": 83,
     "metadata": {},
     "output_type": "execute_result"
    }
   ],
   "source": [
    "train_dataset.keys()"
   ]
  },
  {
   "cell_type": "code",
   "execution_count": 108,
   "metadata": {},
   "outputs": [],
   "source": [
    "def createBatches(dataset,batch_size): # generator implementation \n",
    "    batch = [] # return a batch of datapoints based on batch_size\n",
    "    lengths = list(dataset.keys())\n",
    "    lengths.sort(reverse=True)\n",
    "    size = 0\n",
    "    \n",
    "    for l in lengths:\n",
    "        for doc in dataset[l]:\n",
    "            if len(batch)>0:\n",
    "                curr_len = len(batch[-1][0])\n",
    "            else:\n",
    "                curr_len = l\n",
    "            diff = curr_len - len(doc[0]) \n",
    "            if diff<=2 and diff>0:\n",
    "                for _ in range(diff):\n",
    "                    doc[0].append([0])\n",
    "                size+=1\n",
    "                batch.append(doc)\n",
    "            elif diff==0:\n",
    "                batch.append(doc)\n",
    "                size+=1\n",
    "            else:\n",
    "                if len(batch)>0:\n",
    "                    yield batch\n",
    "                batch = [doc]\n",
    "                size = 1\n",
    "                \n",
    "            if size==batch_size:\n",
    "                yield batch\n",
    "                batch = []\n",
    "                size = 0\n",
    "    yield batch       "
   ]
  },
  {
   "cell_type": "code",
   "execution_count": 109,
   "metadata": {},
   "outputs": [
    {
     "name": "stdout",
     "output_type": "stream",
     "text": [
      "1\n",
      "([[78, 84, 85, 86, 87, 88, 89, 90, 91, 92, 93, 94, 95, 96, 97], [98, 99, 100, 101, 102, 103, 104, 105, 106, 107, 108, 109], [110, 111, 112, 113, 114, 115, 72, 116, 117, 118, 119, 120, 121, 122], [123, 124, 125, 126, 127, 128, 129, 90, 130], [131, 78, 132, 133, 134, 135, 136, 125, 137, 138, 139, 140, 141], [142, 143, 144, 145, 146, 147], [148, 110, 113, 98, 143, 149, 138, 150, 151, 152], [102, 153, 78, 154, 155, 156, 157, 158, 98], [159, 160, 161, 79, 100, 101, 125, 162, 163, 50, 164], [165, 166, 167, 168, 169, 170, 171, 172], [173, 110, 174, 60, 175, 96, 176, 138, 177, 178, 179, 40, 180], [68, 181, 182, 172], [52, 183, 184, 185, 136, 125, 11, 186, 187, 188, 189, 190, 125], [191, 192, 193, 41, 194, 195, 196, 197, 198, 199, 200, 136, 201, 202], [203, 184, 185, 156, 27, 204, 110, 205, 115], [34, 206, 207, 208, 28, 93, 209, 57, 58, 210], [52, 211, 53, 212, 213], [214, 187, 86, 215], [216, 217, 218, 219, 220, 221, 222, 223, 164, 224, 96, 225], [226, 6, 227, 109, 228, 229, 230, 231, 232], [233, 234, 235, 236, 237, 238, 239, 240], [241, 132, 242, 243, 190, 125, 244, 245, 246, 125, 247, 248, 249, 250, 251, 252, 253, 254, 255, 256, 257, 231, 232, 258, 259, 260], [0]], 0)\n",
      "--------\n",
      "==========\n",
      "2\n",
      "([[426, 427, 47, 428, 429, 430, 156, 381, 412, 431, 11, 432, 433, 192, 434, 435, 51, 436, 437], [269, 438, 439, 110, 440, 441, 430, 316, 86, 156], [442, 439, 443, 53, 444, 445, 446], [447, 448, 449, 450, 451, 182, 431, 452, 11, 93, 438, 453, 192], [11, 93, 427, 219, 430, 53, 454, 128, 455, 232, 356, 156, 456, 457, 458, 459, 460, 156], [285, 64, 461, 462, 463, 30, 128, 235, 55, 232, 432, 356, 156, 464, 354], [52, 168, 86, 465, 316, 466, 467, 468, 469, 470, 182, 471], [269, 429, 198, 100, 407, 343, 472, 254, 473, 474, 475], [34, 476, 45, 431, 1, 477, 51, 104], [460, 235, 53, 478, 479, 480, 328, 481, 429, 30, 482, 483, 45, 429], [484, 235, 485, 8, 40, 272, 486, 40, 325, 192, 487, 437, 440, 86, 488]], 0)\n",
      "--------\n",
      "([[269, 270, 50, 271], [272, 273, 274, 275, 276, 277, 278, 279, 280, 281, 282, 283, 284], [285, 191, 286, 287, 282, 288, 289, 290, 291, 292, 293, 282, 294, 295, 296, 297], [52, 271, 293, 298, 299, 300, 301, 302, 303, 304, 305, 306], [307, 110, 308, 82, 309, 310, 311, 312, 313, 314, 315], [233, 316, 317, 271, 11, 318, 231, 319, 320, 321], [52, 192, 322, 323], [52, 324, 325], [272, 326, 327, 328], [0], [0]], 1)\n",
      "--------\n",
      "==========\n",
      "4\n",
      "([[1], [2, 3], [4, 5, 6], [7, 8, 9, 10, 11, 12], [13, 1, 14], [15, 16]], 0)\n",
      "--------\n",
      "([[532, 446, 533, 342, 181, 534, 535, 536, 537, 538, 539, 449, 540, 541, 542, 543, 446, 181, 540, 544, 545, 546, 547, 548, 549, 550, 551, 552, 454, 553, 554, 555, 556], [11, 492, 557, 558, 482, 559, 560, 561, 562, 563, 437, 564, 565, 566, 567, 568, 569, 548, 570, 571, 572, 573, 574, 575], [532, 446, 576, 577, 242, 578, 437, 579, 461, 130, 580, 581, 582], [23, 583, 584, 306, 384, 181, 585], [148, 586, 587, 82, 588, 589, 590, 134, 591, 592, 593], [47, 594]], 1)\n",
      "--------\n",
      "([[56, 390, 391, 392], [174, 393, 110, 394, 395], [396, 174], [243, 219, 397], [398, 399, 391, 400, 401, 402], [0]], 0)\n",
      "--------\n",
      "([[52, 105, 413, 414], [52, 415, 416], [417, 418, 419, 420, 419], [52, 416, 136, 421], [272, 422, 423, 424, 384, 425], [0]], 0)\n",
      "--------\n",
      "==========\n",
      "4\n",
      "([[599, 496, 600, 48, 601, 602, 181], [603, 604, 192, 78, 605, 168, 606, 47], [52, 607, 608, 609, 47], [11, 610, 48, 611, 78], [612, 613, 51, 609, 60, 78, 11, 261, 472, 60, 353, 11, 586, 614]], 0)\n",
      "--------\n",
      "([[11, 17, 18, 19, 20, 21, 22, 23, 20, 24, 25, 26, 27, 28, 29, 30, 31, 32, 33], [34, 19, 20, 35, 36, 37, 38, 39, 26, 40, 41, 42], [43, 44, 45, 46], [0], [0]], 1)\n",
      "--------\n",
      "([[7, 47, 48, 49, 50, 51], [52, 48, 53, 54, 55, 56, 57, 58], [11, 59, 60], [0], [0]], 1)\n",
      "--------\n",
      "([[11, 61, 62, 63, 64, 23, 65, 66, 67, 51], [68, 69, 70, 71, 72, 73, 47], [74, 75, 11, 76, 77, 78, 79, 80, 47, 65, 81, 51, 82, 83], [0], [0]], 0)\n",
      "--------\n",
      "==========\n",
      "4\n",
      "([[241, 1, 329, 330, 331, 11, 93, 332, 11, 333, 330], [334, 325, 45], [45]], 0)\n",
      "--------\n",
      "([[52, 335, 336, 337, 338, 48, 11, 47, 339, 340, 341], [342, 343, 344, 340, 345, 346, 347, 348, 349, 350, 351, 352, 353, 354, 47, 355], [272, 326, 356, 357, 358, 11, 359]], 1)\n",
      "--------\n",
      "([[11, 36, 365, 234, 78, 118, 366], [272, 367, 343, 368, 369, 184, 1], [34, 370, 11, 371, 372, 373, 374]], 0)\n",
      "--------\n",
      "([[375, 376, 377, 4, 209, 378], [52, 379, 380], [11, 381, 382]], 1)\n",
      "--------\n",
      "==========\n",
      "4\n",
      "([[11, 125, 86], [11, 383, 128, 384, 181, 385, 386, 78, 198, 387], [11, 388, 89, 389, 198]], 1)\n",
      "--------\n",
      "([[403, 11, 231, 79, 404, 405, 406, 407, 78], [52, 23, 209, 11, 408, 409, 404, 251, 11, 95, 410], [11, 231, 11, 125, 290, 330, 411, 326, 45, 406, 404, 110, 412]], 1)\n",
      "--------\n",
      "([[174, 489, 490, 388, 413, 491, 445, 14, 492, 445], [174, 490, 493, 494, 495, 496, 497], [498, 499]], 1)\n",
      "--------\n",
      "([[500, 501, 502, 78, 503, 504, 505, 85, 506, 507, 232, 184, 508], [509, 510, 511, 85, 512, 513, 514, 511, 515, 516, 517, 511, 518, 44, 519, 23, 520, 521], [522, 241, 1, 523]], 0)\n",
      "--------\n",
      "==========\n",
      "4\n",
      "([[11, 78, 50, 152, 595], [596, 191, 174, 597, 217], [375, 191, 1, 216, 217, 598]], 1)\n",
      "--------\n",
      "([[367, 615, 616, 617, 618, 619, 620, 621, 622, 623, 52, 68, 624, 625, 626, 52, 627], [628, 293, 615, 629], [386, 617, 630, 631, 632]], 1)\n",
      "--------\n",
      "([[261, 174, 262, 263, 263], [264, 265, 47, 266, 45, 267, 265, 55, 263, 184, 268], [0]], 0)\n",
      "--------\n",
      "([[360, 361], [362, 363, 364], [0]], 0)\n",
      "--------\n",
      "==========\n",
      "2\n",
      "([[524, 525, 526, 184, 1, 527, 528, 79, 1], [529, 32, 530, 531]], 0)\n",
      "--------\n",
      "([[596, 174, 633, 151, 65, 634, 635, 636, 637], [616, 638, 11, 492, 125, 639, 640, 641, 642, 643, 238, 644, 73]], 1)\n",
      "--------\n",
      "==========\n"
     ]
    }
   ],
   "source": [
    "for batch in createBatches(train_dataset,4):\n",
    "    print(len(batch))\n",
    "    for b in batch:\n",
    "        print(b)\n",
    "        print('--------') \n",
    "    print('==========')"
   ]
  },
  {
   "cell_type": "code",
   "execution_count": null,
   "metadata": {},
   "outputs": [],
   "source": [
    "class WordEncoder(nn.Module):\n",
    "    def __init__(self,input_size,embedding_size,output_size,layers,padding_ids):\n",
    "        super(WordEncoder,self).__init__()\n",
    "        self.input_size = input_size\n",
    "        self.embedding_size = embedding_size\n",
    "        self.layers = layers\n",
    "        self.batch_first = True\n",
    "        self.embedding = nn.Embedding(input_size, embedding_size, padding_idx=padding_idx)\n",
    "        self.e2i = nn.Linear(encoding_size, hidden_size)\n",
    "        self.gru = nn.GRU(hidden_size, hidden_size, batch_first=True, num_layers=self.layers, bidirectional=True)\n",
    "        self.out = nn.Linear(hidden_size, output_size)\n",
    "        self.sigmoid = nn.Sigmoid()"
   ]
  }
 ],
 "metadata": {
  "kernelspec": {
   "display_name": "Python 3",
   "language": "python",
   "name": "python3"
  },
  "language_info": {
   "codemirror_mode": {
    "name": "ipython",
    "version": 3
   },
   "file_extension": ".py",
   "mimetype": "text/x-python",
   "name": "python",
   "nbconvert_exporter": "python",
   "pygments_lexer": "ipython3",
   "version": "3.7.0"
  }
 },
 "nbformat": 4,
 "nbformat_minor": 2
}
